{
 "cells": [
  {
   "cell_type": "code",
   "execution_count": null,
   "id": "09b32581",
   "metadata": {},
   "outputs": [],
   "source": [
    "#This script contains methods to conduct analysis for CaSR predictions\n",
    "#packages\n",
    "import pymol2\n",
    "import os\n",
    "import pandas as pd"
   ]
  },
  {
   "cell_type": "code",
   "execution_count": null,
   "id": "c4b2309a",
   "metadata": {},
   "outputs": [],
   "source": [
    "def align_with_pymol(struct1_path, struct2_path):\n",
    "    # Start a PyMOL session\n",
    "    with pymol2.PyMOL() as pymol:\n",
    "        pymol.cmd.reinitialize()  # Reset PyMOL to a clean state\n",
    "\n",
    "        # Load the protein structures\n",
    "        pymol.cmd.load(struct1_path, \"structure1\")\n",
    "        pymol.cmd.load(struct2_path, \"structure2\")\n",
    "\n",
    "        # Perform alignment\n",
    "        rmsd = pymol.cmd.align(\"structure1\", \"structure2\")\n",
    "        pymol.cmd.delete(\"all\")\n",
    "        return rmsd"
   ]
  },
  {
   "cell_type": "code",
   "execution_count": null,
   "id": "43e6287f",
   "metadata": {},
   "outputs": [],
   "source": [
    "job_df = pd.read_csv(\"/path/to/job/dataframe\")\n",
    "main_folder_path = \"/path/to/AF3/output/folder\"\n",
    "folder_names = [folder for folder in os.listdir(main_folder_path) if os.path.isdir(os.path.join(main_folder_path, folder))]\n",
    "\n",
    "new_rows = []\n",
    "# Iterate through all folders\n",
    "for folder in folder_names:\n",
    "    folder_path = os.path.join(main_folder_path, folder)\n",
    "    #print(folder)\n",
    "    matching_row = job_df[job_df[\"job_id\"].str.casefold() == folder.casefold()]\n",
    "    # Perform operations for each folder\n",
    "    # For example: list files inside the folder\n",
    "    predicted_model_path = folder_path+\"/%s_model.cif\"%folder\n",
    "    RMSD_positive = align_with_pymol(predicted_model_path,\"/path/to/active/CaSR/structure\")[0]\n",
    "    RMSD_negative = align_with_pymol(predicted_model_path,\"/path/to/inactive/CaSR/structure\")[0]\n",
    "    new_rows.append([matching_row[\"Lig. Name\"].values[0],matching_row[\"Source\"].values[0],RMSD_negative,RMSD_positive])\n",
    "results = pd.DataFrame(new_rows,columns=[\"Lig. Name\",\"Source\",\"RMSD_inactive\",\"RMSD_active\"])"
   ]
  }
 ],
 "metadata": {
  "language_info": {
   "name": "python"
  }
 },
 "nbformat": 4,
 "nbformat_minor": 5
}
